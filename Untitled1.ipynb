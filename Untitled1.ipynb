{
  "nbformat": 4,
  "nbformat_minor": 0,
  "metadata": {
    "colab": {
      "name": "Untitled1.ipynb",
      "provenance": [],
      "authorship_tag": "ABX9TyNrvbtXaVV6qvLzDARW7gcL",
      "include_colab_link": true
    },
    "kernelspec": {
      "name": "python3",
      "display_name": "Python 3"
    },
    "language_info": {
      "name": "python"
    }
  },
  "cells": [
    {
      "cell_type": "markdown",
      "metadata": {
        "id": "view-in-github",
        "colab_type": "text"
      },
      "source": [
        "<a href=\"https://colab.research.google.com/github/SowryaAsish-068/moduleassign/blob/MODULE-1-EXERCISE/Untitled1.ipynb\" target=\"_parent\"><img src=\"https://colab.research.google.com/assets/colab-badge.svg\" alt=\"Open In Colab\"/></a>"
      ]
    },
    {
      "cell_type": "code",
      "execution_count": null,
      "metadata": {
        "colab": {
          "base_uri": "https://localhost:8080/"
        },
        "id": "YP9fnOLt4Kci",
        "outputId": "011259b1-89ed-48a3-919b-726ba5220595"
      },
      "outputs": [
        {
          "output_type": "stream",
          "name": "stdout",
          "text": [
            "['apple', 'orange', 'grape', 'watermelon']\n",
            "['grape', 'watermelon', 'mango', 'green apple']\n",
            "apple\n",
            "orange\n",
            "grape\n",
            "watermelon\n",
            "mango\n",
            "green apple\n",
            "orange\n",
            "grape\n",
            "watermelon\n",
            "mango\n",
            "green apple\n"
          ]
        }
      ],
      "source": [
        "fruit=['apple','orange','grape','watermelon','mango','green apple']\n",
        "print(fruit[0:4])\n",
        "print(fruit[2:6])\n",
        "print(fruit[0])\n",
        "print(fruit[1])\n",
        "print(fruit[2])\n",
        "print(fruit[3])\n",
        "print(fruit[4])\n",
        "print(fruit[5])\n",
        "print(fruit[-5])\n",
        "print(fruit[-4])\n",
        "print(fruit[-3])\n",
        "print(fruit[-2])\n",
        "print(fruit[-1])\n",
        "\n",
        "\n",
        "\n",
        "\n"
      ]
    },
    {
      "cell_type": "code",
      "source": [
        "num=['1','2','3','4','5','6']\n",
        "print(num[2:5])\n",
        "print(num[1:5])\n",
        "print(num[3:5])\n"
      ],
      "metadata": {
        "colab": {
          "base_uri": "https://localhost:8080/"
        },
        "id": "qWidfDco-hLv",
        "outputId": "98d3252b-7f2f-46a6-fcb8-dec50f01c487"
      },
      "execution_count": null,
      "outputs": [
        {
          "output_type": "stream",
          "name": "stdout",
          "text": [
            "['3', '4', '5']\n",
            "['2', '3', '4', '5']\n",
            "['4', '5']\n"
          ]
        }
      ]
    },
    {
      "cell_type": "code",
      "source": [
        "\n",
        "odd = [2, 4, 6, 8]  \n",
        "odd[0] = 1            \n",
        "print(odd)\n",
        "odd[1:4] = [3, 5, 7]  \n",
        "print(odd)                   "
      ],
      "metadata": {
        "colab": {
          "base_uri": "https://localhost:8080/"
        },
        "id": "OJEP64YUCmPZ",
        "outputId": "330e676e-e1b4-47a4-efe7-28aa7bf1d9de"
      },
      "execution_count": null,
      "outputs": [
        {
          "output_type": "stream",
          "name": "stdout",
          "text": [
            "[1, 4, 6, 8]\n",
            "[1, 3, 5, 7]\n"
          ]
        }
      ]
    },
    {
      "cell_type": "code",
      "source": [
        "fruit= [\"apple\", \"banana\", \"cherry\"]\n",
        "print(fruit)\n",
        "fruit.append('apple')\n",
        "print(fruit)\n",
        "fruit.insert(-2,'mango')\n",
        "print(fruit)\n",
        "\n",
        "\n",
        "\n"
      ],
      "metadata": {
        "colab": {
          "base_uri": "https://localhost:8080/"
        },
        "id": "OC_rJ1XfHJFk",
        "outputId": "e1be6515-309d-4dc1-96aa-e09058456758"
      },
      "execution_count": null,
      "outputs": [
        {
          "output_type": "stream",
          "name": "stdout",
          "text": [
            "['apple', 'banana', 'cherry']\n",
            "['apple', 'banana', 'cherry', 'apple']\n",
            "['apple', 'banana', 'mango', 'cherry', 'apple']\n"
          ]
        }
      ]
    },
    {
      "cell_type": "code",
      "source": [
        "name= [\"suresh\", \"ramesh\", \"chandu\"]\n",
        "print(name)\n",
        "name.append('ramesh')\n",
        "name.insert(-1,'sowrya')\n",
        "print(name)\n",
        "(name.reverse())\n",
        "print(name)\n",
        "name.pop(3)\n",
        "print(name)\n",
        "b=name.copy()\n",
        "print(b)\n",
        "print(len(name))\n",
        "name.extend('kirl')\n",
        "print(name)\n",
        "print(len(name))\n",
        "\n"
      ],
      "metadata": {
        "colab": {
          "base_uri": "https://localhost:8080/"
        },
        "id": "R_MU1DjyJSzE",
        "outputId": "ca24c3e6-215a-45d9-d5cf-b6d5fb570da0"
      },
      "execution_count": null,
      "outputs": [
        {
          "output_type": "stream",
          "name": "stdout",
          "text": [
            "['suresh', 'ramesh', 'chandu']\n",
            "['suresh', 'ramesh', 'chandu', 'sowrya', 'ramesh']\n",
            "['ramesh', 'sowrya', 'chandu', 'ramesh', 'suresh']\n",
            "['ramesh', 'sowrya', 'chandu', 'suresh']\n",
            "['ramesh', 'sowrya', 'chandu', 'suresh']\n",
            "4\n",
            "['ramesh', 'sowrya', 'chandu', 'suresh', 'k', 'i', 'r', 'l']\n",
            "8\n"
          ]
        }
      ]
    }
  ]
}