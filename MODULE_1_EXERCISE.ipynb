{
  "cells": [
    {
      "cell_type": "markdown",
      "metadata": {
        "id": "view-in-github",
        "colab_type": "text"
      },
      "source": [
        "<a href=\"https://colab.research.google.com/github/SowryaAsish-068/moduleassign/blob/MODULE-1-EXERCISE/MODULE_1_EXERCISE.ipynb\" target=\"_parent\"><img src=\"https://colab.research.google.com/assets/colab-badge.svg\" alt=\"Open In Colab\"/></a>"
      ]
    },
    {
      "cell_type": "code",
      "execution_count": null,
      "metadata": {
        "colab": {
          "base_uri": "https://localhost:8080/"
        },
        "id": "5KCygYZfoSdE",
        "outputId": "ce7a159e-7cc4-4a1c-e3e6-acc2f34ddec9"
      },
      "outputs": [
        {
          "name": "stdout",
          "output_type": "stream",
          "text": [
            "Enter number :123\n",
            "123\n",
            "Enter name : Sowrya\n",
            "Sowrya\n",
            "type of number <class 'str'>\n",
            "type of name <class 'str'>\n"
          ]
        }
      ],
      "source": [
        "#Accept input from user and store it in variable and print the value\n",
        "\n",
        "\n",
        "num = input (\"Enter number :\")\n",
        "print(num)\n",
        "name1 = input(\"Enter name : \")\n",
        "print(name1)\n",
        "\n",
        "# Printing type of input value\n",
        "print (\"type of number\", type(num))\n",
        "print (\"type of name\", type(name1))\n",
        "\n"
      ]
    },
    {
      "cell_type": "code",
      "execution_count": null,
      "metadata": {
        "id": "TuQ7AggSpOYb"
      },
      "outputs": [],
      "source": [
        "#Use of print statements and use of (.format )for printing different data types\n"
      ]
    },
    {
      "cell_type": "code",
      "execution_count": null,
      "metadata": {
        "colab": {
          "base_uri": "https://localhost:8080/"
        },
        "id": "HBI7MOg3pfHT",
        "outputId": "61aae4ae-eee3-476c-eb72-e8df201aeaf7"
      },
      "outputs": [
        {
          "name": "stdout",
          "output_type": "stream",
          "text": [
            "Enter First Number: \n",
            "12\n",
            "Enter Second Number: \n",
            "11\n",
            "\n",
            "Addition Result =  23\n",
            "Subtraction Result =  1\n",
            "Multiplication Result =  132\n",
            "Division Result =  1.0909090909090908\n"
          ]
        }
      ],
      "source": [
        "#Take 2 numbers as user input and add, multiply, divide, subtract, remainder and print\n",
        "\n",
        "print(\"Enter First Number: \")\n",
        "numOne = int(input())\n",
        "print(\"Enter Second Number: \")\n",
        "numTwo = int(input())\n",
        "res = numOne+numTwo\n",
        "print(\"\\nAddition Result = \", res)\n",
        "res = numOne-numTwo\n",
        "print(\"Subtraction Result = \", res)\n",
        "res = numOne*numTwo\n",
        "print(\"Multiplication Result = \", res)\n",
        "res = numOne/numTwo\n",
        "print(\"Division Result = \", res)"
      ]
    },
    {
      "cell_type": "code",
      "execution_count": null,
      "metadata": {
        "colab": {
          "base_uri": "https://localhost:8080/"
        },
        "id": "xKP785sGqBEr",
        "outputId": "39d96b64-c01d-4e57-a509-6f0bfe8d9ae6"
      },
      "outputs": [
        {
          "name": "stdout",
          "output_type": "stream",
          "text": [
            "Enter value in kilometers: 550\n",
            "550.00 kilometers is equal to 341.75 miles\n"
          ]
        }
      ],
      "source": [
        "#Conversion of one unit to another (such as hours to minutes, miles to km and etc)\n",
        "\n",
        "# Taking kilometers input from the user\n",
        "kilometers = float(input(\"Enter value in kilometers: \"))\n",
        "\n",
        "conv_fac = 0.621371\n",
        "\n",
        "miles = kilometers * conv_fac\n",
        "print('%0.2f kilometers is equal to %0.2f miles' %(kilometers,miles))\n"
      ]
    },
    {
      "cell_type": "code",
      "execution_count": null,
      "metadata": {
        "colab": {
          "base_uri": "https://localhost:8080/"
        },
        "id": "8HdkCSPKqSgz",
        "outputId": "bc3312ea-58bb-4e82-a8fd-3839cf153a0f"
      },
      "outputs": [
        {
          "name": "stdout",
          "output_type": "stream",
          "text": [
            "5\n",
            "5\n",
            "4\n",
            "-4\n",
            "4\n",
            "4\n",
            "4\n",
            "-5\n",
            "4.5467\n",
            "4.5467\n",
            "4.0\n"
          ]
        }
      ],
      "source": [
        "#Usage of mathematical functions in python like math.ceil, floor, fabs, fmod, trunc,\n",
        "#ceil\n",
        "\n",
        "import math\n",
        "   \n",
        "my_int = 4.5467\n",
        "print (math.ceil(my_int)) \n",
        "  \n",
        "my_int = 4.1467\n",
        "print (math.ceil(my_int)) \n",
        "\n",
        "my_int = 4\n",
        "print (math.ceil(my_int)) \n",
        "\n",
        "my_int = -4.5467    # It behaves in the same way when used with negative numbers also\n",
        "print (math.ceil(my_int))\n",
        "\n",
        "#floor \n",
        "\n",
        "import math \n",
        "\n",
        "my_int = 4.5467\n",
        "print (math.floor(my_int)) \n",
        "  \n",
        "my_int = 4.9467\n",
        "print (math.floor(my_int)) \n",
        "\n",
        "my_int = 4\n",
        "print (math.floor(my_int)) \n",
        "\n",
        "my_int = -4.5467\n",
        "print (math.floor(my_int))\n",
        "\n",
        "#fab\n",
        "\n",
        "import math \n",
        "\n",
        "my_int = 4.5467\n",
        "print (math.fabs(my_int)) \n",
        "  \n",
        "my_int = -4.5467\n",
        "print (math.fabs(my_int)) \n",
        "\n",
        "my_int = 4\n",
        "print (math.fabs(my_int))\n",
        "\n"
      ]
    },
    {
      "cell_type": "code",
      "execution_count": null,
      "metadata": {
        "colab": {
          "background_save": true,
          "base_uri": "https://localhost:8080/"
        },
        "id": "_YA6JXSA0rXS",
        "outputId": "1881ca70-63f5-4b2a-bade-06c002ae626b"
      },
      "outputs": [
        {
          "name": "stdout",
          "output_type": "stream",
          "text": [
            "Select operation.\n",
            "1.Add\n",
            "2.Subtract\n",
            "3.Multiply\n",
            "4.Divide\n",
            "2.0 + 3.0 = 5.0\n",
            "Invalid Input\n"
          ]
        }
      ],
      "source": [
        "#Building a mathematical calculator that can perform operations according to user input.\n",
        "\n",
        "\n",
        "# This function adds two numbers\n",
        "def add(x, y):\n",
        "    return x + y\n",
        "\n",
        "# This function subtracts two numbers\n",
        "def subtract(x, y):\n",
        "    return x - y\n",
        "\n",
        "# This function multiplies two numbers\n",
        "def multiply(x, y):\n",
        "    return x * y\n",
        "\n",
        "# This function divides two numbers\n",
        "def divide(x, y):\n",
        "    return x / y\n",
        "\n",
        "\n",
        "print(\"Select operation.\")\n",
        "print(\"1.Add\")\n",
        "print(\"2.Subtract\")\n",
        "print(\"3.Multiply\")\n",
        "print(\"4.Divide\")\n",
        "\n",
        "while True:\n",
        "    # take input from the user\n",
        "    choice = input(\"Enter choice(1/2/3/4): \")\n",
        "\n",
        "    # check if choice is one of the four options\n",
        "    if choice in ('1', '2', '3', '4'):\n",
        "        num1 = float(input(\"Enter first number: \"))\n",
        "        num2 = float(input(\"Enter second number: \"))\n",
        "\n",
        "        if choice == '1':\n",
        "            print(num1, \"+\", num2, \"=\", add(num1, num2))\n",
        "\n",
        "        elif choice == '2':\n",
        "            print(num1, \"-\", num2, \"=\", subtract(num1, num2))\n",
        "\n",
        "        elif choice == '3':\n",
        "            print(num1, \"*\", num2, \"=\", multiply(num1, num2))\n",
        "\n",
        "        elif choice == '4':\n",
        "            print(num1, \"/\", num2, \"=\", divide(num1, num2))\n",
        "        \n",
        "        # check if user wants another calculation\n",
        "        # break the while loop if answer is no\n",
        "        next_calculation = input(\"Let's do next calculation? (yes/no): \")\n",
        "        if next_calculation == \"no\":\n",
        "          break\n",
        "    \n",
        "    else:\n",
        "        print(\"Invalid Input\")"
      ]
    }
  ],
  "metadata": {
    "colab": {
      "name": "MODULE 1 EXERCISE.ipynb",
      "provenance": [],
      "authorship_tag": "ABX9TyPuRL0zGlV4kXDdERWS09W4",
      "include_colab_link": true
    },
    "kernelspec": {
      "display_name": "Python 3",
      "name": "python3"
    },
    "language_info": {
      "name": "python"
    }
  },
  "nbformat": 4,
  "nbformat_minor": 0
}