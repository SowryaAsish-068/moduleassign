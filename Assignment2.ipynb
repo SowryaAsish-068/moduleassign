{
  "nbformat": 4,
  "nbformat_minor": 0,
  "metadata": {
    "colab": {
      "name": "Assignment2.ipynb",
      "provenance": [],
      "collapsed_sections": [],
      "include_colab_link": true
    },
    "kernelspec": {
      "name": "python3",
      "display_name": "Python 3"
    },
    "language_info": {
      "name": "python"
    }
  },
  "cells": [
    {
      "cell_type": "markdown",
      "metadata": {
        "id": "view-in-github",
        "colab_type": "text"
      },
      "source": [
        "<a href=\"https://colab.research.google.com/github/SowryaAsish-068/moduleassign/blob/module2/Assignment2.ipynb\" target=\"_parent\"><img src=\"https://colab.research.google.com/assets/colab-badge.svg\" alt=\"Open In Colab\"/></a>"
      ]
    },
    {
      "cell_type": "code",
      "execution_count": null,
      "metadata": {
        "colab": {
          "base_uri": "https://localhost:8080/"
        },
        "id": "OsHmWGw5LZ3H",
        "outputId": "7ba3e965-79dc-4298-96ee-1d81f7062a37"
      },
      "outputs": [
        {
          "name": "stdout",
          "output_type": "stream",
          "text": [
            "Enter n:44\n",
            "Enter r: 56\n"
          ]
        },
        {
          "output_type": "execute_result",
          "data": {
            "text/plain": [
              "3.738786012213603e-21"
            ]
          },
          "metadata": {},
          "execution_count": 35
        }
      ],
      "source": [
        " #Create a function which accepts two inputs from the user and compute nCr\n",
        " \n",
        "def nCr(n, r):\n",
        "    return (fact(n) / (fact(r)* fact(n - r)))\n",
        "def fact(n):\n",
        "    res = 1\n",
        "    for i in range (2,n+1):\n",
        "        res = res * i\n",
        "    return res\n",
        "nCr(int(input(\"Enter n:\")),int(input(\"Enter r: \")))\n",
        " "
      ]
    },
    {
      "cell_type": "code",
      "source": [
        "num1=int(input())\n",
        "num2=int(input())\n",
        "def hcf(num1,num2):\n",
        "   if num1>num2:\n",
        "     smaller = num2\n",
        "else:\n",
        "smaller = num1\n",
        "for x in range(1, smaller+1):\n",
        "if((num1 % x == 0) and (num2 % x == 0)):\n",
        "hcf = x\n",
        "return hcf\n",
        "print(\"Gcd is\", hcf(num1,num2))"
      ],
      "metadata": {
        "colab": {
          "base_uri": "https://localhost:8080/",
          "height": 130
        },
        "id": "QU_o1AiHvymT",
        "outputId": "855b3037-87a7-4f1d-c53a-ff27f4f19a0e"
      },
      "execution_count": null,
      "outputs": [
        {
          "output_type": "error",
          "ename": "IndentationError",
          "evalue": "ignored",
          "traceback": [
            "\u001b[0;36m  File \u001b[0;32m\"<ipython-input-2-9859d1358472>\"\u001b[0;36m, line \u001b[0;32m4\u001b[0m\n\u001b[0;31m    if num1>num2:\u001b[0m\n\u001b[0m     ^\u001b[0m\n\u001b[0;31mIndentationError\u001b[0m\u001b[0;31m:\u001b[0m expected an indented block\n"
          ]
        }
      ]
    },
    {
      "cell_type": "code",
      "source": [
        "#ncr using function\n",
        "\n"
      ],
      "metadata": {
        "id": "uP6wtyP8g243"
      },
      "execution_count": null,
      "outputs": []
    },
    {
      "cell_type": "code",
      "source": [
        "def fxn(stng):\n",
        "  oupt = stng[0]\n",
        "  for i in range(1, len(stng)):\n",
        "     if stng[i-1] == ' ':\n",
        "        oupt += stng[i]\n",
        "  oupt = oupt.upper()\n",
        "  return oupt\n",
        "inpt1 = \"Computer Science Engineering\"\n",
        "print(fxn(inpt1))\n",
        "inpt1 = \"Artificial Intelligence\"\n",
        "print(fxn(inpt1))\n",
        "inpt1 = \"Gitam Institute Technology And Management\"\n",
        "print(fxn(inpt1))\n"
      ],
      "metadata": {
        "id": "08vpjf_6t9yB"
      },
      "execution_count": null,
      "outputs": []
    },
    {
      "cell_type": "code",
      "source": [
        "#Program to print a specified list after removing the 0th, 4th and 5th elements.\n",
        "\n",
        "def colour():\n",
        "    list=['Red', 'Green', 'White', 'Black', 'Pink', 'Yellow']\n",
        "    list.pop(1)\n",
        "    list.pop(2)\n",
        "    list.pop(3)\n",
        "    print(list)\n",
        "colour() "
      ],
      "metadata": {
        "colab": {
          "base_uri": "https://localhost:8080/"
        },
        "id": "AyFL-bmP9Npp",
        "outputId": "f21bb945-0681-4b99-e3e0-330eea8fd3b3"
      },
      "execution_count": null,
      "outputs": [
        {
          "output_type": "stream",
          "name": "stdout",
          "text": [
            "['Red', 'White', 'Pink']\n"
          ]
        }
      ]
    },
    {
      "cell_type": "code",
      "source": [
        "#Program to get the difference between the two lists\n",
        "\n",
        "def diff():\n",
        " li1 = [6, 12, 24, 36, 48, 60]\n",
        " li2 = [5, 10, 15 ]\n",
        " li3 =set(li1)\n",
        " li4= set(li2)\n",
        " lu5= li3.difference(li4)\n",
        " lu6= list(lu5)\n",
        " print(lu6)\n",
        "diff()\n",
        " "
      ],
      "metadata": {
        "colab": {
          "base_uri": "https://localhost:8080/"
        },
        "id": "SqiiQESxy9lf",
        "outputId": "708a6278-ee12-494e-cfb3-6607467fcfee"
      },
      "execution_count": null,
      "outputs": [
        {
          "output_type": "stream",
          "name": "stdout",
          "text": [
            "[36, 6, 12, 48, 24, 60]\n"
          ]
        }
      ]
    },
    {
      "cell_type": "code",
      "source": [
        "#Program to find the second smallest number and second largest number in a list\n",
        "\n",
        "def x():\n",
        "  x = [6,45,145,245,367,453,555 ]\n",
        "  x.sort()\n",
        "  print(x)\n",
        "  print(x[1:3])\n",
        "  print(x[-2:1])\n",
        "x()\n",
        "    "
      ],
      "metadata": {
        "colab": {
          "base_uri": "https://localhost:8080/"
        },
        "id": "LyNIbJcnz7Sf",
        "outputId": "568ad668-6634-4a55-a2b4-d180ecf61db0"
      },
      "execution_count": null,
      "outputs": [
        {
          "output_type": "stream",
          "name": "stdout",
          "text": [
            "[6, 45, 145, 245, 367, 453, 555]\n",
            "[45, 145]\n",
            "[]\n"
          ]
        }
      ]
    },
    {
      "cell_type": "code",
      "source": [
        "#Given a list of numbers of list, write a Python program to create a list of tuples\n",
        "\n",
        "def sq_in_list():\n",
        "    list1 = [1, 2, 3, 4]\n",
        "    b= len(list1)\n",
        "    for i in range(0,b):\n",
        "     c=list1[i]\n",
        "     a=pow(c,2)\n",
        "     res = (c,a)\n",
        "    print(res)\n",
        "sq_in_list()\n"
      ],
      "metadata": {
        "colab": {
          "base_uri": "https://localhost:8080/"
        },
        "id": "eVXy6Hfs0Sol",
        "outputId": "7aba2c3a-e3f2-4682-cde3-7c03e55ab0c2"
      },
      "execution_count": null,
      "outputs": [
        {
          "output_type": "stream",
          "name": "stdout",
          "text": [
            "(4, 16)\n"
          ]
        }
      ]
    },
    {
      "cell_type": "code",
      "source": [
        "#Given list of tuples, remove all the tuples with length K.\n",
        "#Input : test_list = [(4, 5), (4, ), (8, 6, 7), (1, ), (3, 4, 6, 7)], K = 2 \n",
        "\n",
        "def lenoftuples():\n",
        "    test_list = [(6, 9), (4, ), (8, 9, 12), (1, ), (5, 7, 8, 10)]\n",
        "    print(\"The original list : \" + str(test_list))\n",
        "    K = 3\n",
        "    res = [ele for ele in test_list if len(ele) != K]\n",
        "    print(\"The Filtered list : \" + str(res))\n",
        "lenoftuples()"
      ],
      "metadata": {
        "colab": {
          "base_uri": "https://localhost:8080/"
        },
        "id": "gcQVWZuL2f99",
        "outputId": "8897833e-ca33-4c5c-dcfd-5522b31b8c32"
      },
      "execution_count": null,
      "outputs": [
        {
          "output_type": "stream",
          "name": "stdout",
          "text": [
            "The original list : [(6, 9), (4,), (8, 9, 12), (1,), (5, 7, 8, 10)]\n",
            "The Filtered list : [(6, 9), (4,), (1,), (5, 7, 8, 10)]\n"
          ]
        }
      ]
    }
  ]
}