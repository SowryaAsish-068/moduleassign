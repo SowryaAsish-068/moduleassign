{
  "nbformat": 4,
  "nbformat_minor": 0,
  "metadata": {
    "colab": {
      "name": "Copy of question bank mid 1.ipynb",
      "provenance": [],
      "collapsed_sections": [],
      "include_colab_link": true
    },
    "kernelspec": {
      "name": "python3",
      "display_name": "Python 3"
    },
    "language_info": {
      "name": "python"
    }
  },
  "cells": [
    {
      "cell_type": "markdown",
      "metadata": {
        "id": "view-in-github",
        "colab_type": "text"
      },
      "source": [
        "<a href=\"https://colab.research.google.com/github/SowryaAsish-068/moduleassign/blob/module3/Copy_of_question_bank_mid_1.ipynb\" target=\"_parent\"><img src=\"https://colab.research.google.com/assets/colab-badge.svg\" alt=\"Open In Colab\"/></a>"
      ]
    },
    {
      "cell_type": "code",
      "execution_count": null,
      "metadata": {
        "id": "LlSOC0P_aqnQ"
      },
      "outputs": [],
      "source": [
        "# 1-write a progam to print all prime numbers ia given range  \n",
        "# 2-write a program to read any month in integer and display dates for that month\n",
        "# 3-write a python program to print even length in a string \n",
        "#  4-a) write a python program to captialize the first letter and last letter in a word\n",
        "#  4-b) write a program to a string from user display first character of each word with capital\n",
        "# 5-write a python rogram to convert a list of multiple integers in a single integer \n",
        "#input- (11,33,50)\n",
        "#output-113350"
      ]
    },
    {
      "cell_type": "code",
      "source": [
        "# 1-write a progam to print all prime numbers ia given range-(25,50)\n",
        "def prime(a,b):\n",
        "  for i in range(a,b+1):\n",
        "     k=0\n",
        "     for j in range(2,i):\n",
        "      if i%j==0:\n",
        "       k=k+1\n",
        "     if k==0:\n",
        "       print(i)\n",
        "prime(25,50)\n",
        "\n",
        "\n",
        "\n"
      ],
      "metadata": {
        "colab": {
          "base_uri": "https://localhost:8080/"
        },
        "id": "2XmMTUANcy-H",
        "outputId": "8941bea6-5e34-4eb5-a719-6802c0a497b6"
      },
      "execution_count": null,
      "outputs": [
        {
          "output_type": "stream",
          "name": "stdout",
          "text": [
            "29\n",
            "31\n",
            "37\n",
            "41\n",
            "43\n",
            "47\n"
          ]
        }
      ]
    },
    {
      "cell_type": "code",
      "source": [
        "#2-write a program to read any month in integer and display dates for that month\n",
        "a=input('enter month number')\n",
        "def month(a):\n",
        "   if a=='2':\n",
        "    print('no of days:28')\n",
        "   elif a in ('4','6','9','11'):\n",
        "    print('no of days:30')\n",
        "   elif a in ('1','3','5','7','8','10','12'):\n",
        "    print('no of days :31')\n",
        "   else:\n",
        "    print('bye')  \n",
        "month(a)  \n"
      ],
      "metadata": {
        "id": "6cz2gHJNlmGs",
        "colab": {
          "base_uri": "https://localhost:8080/"
        },
        "outputId": "a8f9fe31-1047-4040-8f62-feec162d3d6d"
      },
      "execution_count": null,
      "outputs": [
        {
          "output_type": "stream",
          "name": "stdout",
          "text": [
            "enter month number7\n",
            "no of days :31\n"
          ]
        }
      ]
    },
    {
      "cell_type": "code",
      "source": [
        "#write a python program to print even length in a string \n",
        "a=\"This is a python class\"\n",
        "def even(a):\n",
        "   a=a.split(\" \")\n",
        "   for i in a:\n",
        "     if len(i)%2==0:\n",
        "       print(i)\n",
        "even(a)\n"
      ],
      "metadata": {
        "colab": {
          "base_uri": "https://localhost:8080/"
        },
        "id": "Xg1cljJ8A1yQ",
        "outputId": "f509c573-82a9-4285-9795-5bfcf92161bf"
      },
      "execution_count": null,
      "outputs": [
        {
          "output_type": "stream",
          "name": "stdout",
          "text": [
            "This\n",
            "is\n",
            "python\n"
          ]
        }
      ]
    },
    {
      "cell_type": "code",
      "source": [
        "#  4-a) write a python program to captialize the first letter and last letter in a word\n",
        "a=input(\"enter a word:\")\n",
        "def upper(a):\n",
        "  a=a[0].upper()+a[1:len(a)-1]+a[-1].upper()\n",
        "  print(a)\n",
        "upper(a)"
      ],
      "metadata": {
        "colab": {
          "base_uri": "https://localhost:8080/"
        },
        "id": "5H7jmf74Coqz",
        "outputId": "899470b1-a633-4e55-bf97-7f36a002df82"
      },
      "execution_count": null,
      "outputs": [
        {
          "output_type": "stream",
          "name": "stdout",
          "text": [
            "HellO\n"
          ]
        }
      ]
    },
    {
      "cell_type": "code",
      "source": [
        "#4-b) write a program to a string from user display first character of each word with capital\n",
        "a=input(\"enter a string: \")\n",
        "def cap(a):\n",
        "  a=a.title()\n",
        "  print(a)\n",
        "cap(a)"
      ],
      "metadata": {
        "colab": {
          "base_uri": "https://localhost:8080/"
        },
        "id": "cYqV7NkdEzTD",
        "outputId": "004bdab3-85a7-4d0f-fe6e-9d79075c73d5"
      },
      "execution_count": null,
      "outputs": [
        {
          "output_type": "stream",
          "name": "stdout",
          "text": [
            "enter a string: python is class\n",
            "Python Is Class\n"
          ]
        }
      ]
    },
    {
      "cell_type": "code",
      "source": [
        "#write a python rogram to convert a list of multiple integers in a single integer \n",
        "#input- (11,33,50)\n",
        "#output-113350\n",
        "a=[\"11\",\"33\",\"55\"]\n",
        "def combine(a):\n",
        "  for i in a:\n",
        "    print(i,end=\"\")\n",
        "combine(a)\n"
      ],
      "metadata": {
        "colab": {
          "base_uri": "https://localhost:8080/"
        },
        "id": "ukrHW5IFGAPQ",
        "outputId": "446d8135-68f1-44ca-bc9a-0ad41038f084"
      },
      "execution_count": null,
      "outputs": [
        {
          "output_type": "stream",
          "name": "stdout",
          "text": [
            "113355"
          ]
        }
      ]
    }
  ]
}