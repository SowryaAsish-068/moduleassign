{
  "nbformat": 4,
  "nbformat_minor": 0,
  "metadata": {
    "colab": {
      "name": "loopsipynb",
      "provenance": [],
      "authorship_tag": "ABX9TyNoR+fFfpLSOZDHmGmTTZra",
      "include_colab_link": true
    },
    "kernelspec": {
      "name": "python3",
      "display_name": "Python 3"
    },
    "language_info": {
      "name": "python"
    }
  },
  "cells": [
    {
      "cell_type": "markdown",
      "metadata": {
        "id": "view-in-github",
        "colab_type": "text"
      },
      "source": [
        "<a href=\"https://colab.research.google.com/github/SowryaAsish-068/moduleassign/blob/MODULE-1-EXERCISE/loopsipynb.ipynb\" target=\"_parent\"><img src=\"https://colab.research.google.com/assets/colab-badge.svg\" alt=\"Open In Colab\"/></a>"
      ]
    },
    {
      "cell_type": "code",
      "execution_count": null,
      "metadata": {
        "colab": {
          "base_uri": "https://localhost:8080/"
        },
        "id": "n8di8zDmVrxu",
        "outputId": "a3727f4f-ad63-4af4-c7dd-fc290817ec0f"
      },
      "outputs": [
        {
          "output_type": "stream",
          "name": "stdout",
          "text": [
            "0\n",
            "1\n",
            "2\n",
            "3\n"
          ]
        }
      ],
      "source": [
        "#for loops\n",
        "\n",
        "n = 4\n",
        "for i in range(0, n):\n",
        "\tprint(i)\n"
      ]
    },
    {
      "cell_type": "code",
      "source": [
        "# Python program to demonstrate\n",
        "# Creation of Set in Python\n",
        "\n",
        "set1 = set()\n",
        "print(\"Initial blank Set: \")\n",
        "print(set1)\n",
        "\n",
        "set1 = set(\"Gitam\")\n",
        "print(\"\\nSet with the use of String: \")\n",
        "print(set1)\n",
        "\n",
        "String = 'Gitam'\n",
        "set1 = set(String)\n",
        "print(\"\\nSet with the use of an Object: \" )\n",
        "print(set1)\n",
        "\n",
        "set1 = set([\"Gitam\", \"For\", \"Gitam\"])\n",
        "print(\"\\nSet with the use of List: \")\n",
        "print(set1)\n"
      ],
      "metadata": {
        "colab": {
          "base_uri": "https://localhost:8080/"
        },
        "id": "qCuCTX5GYM0v",
        "outputId": "aeff7fbe-ad10-4e5f-b8a6-c934d40ec918"
      },
      "execution_count": null,
      "outputs": [
        {
          "output_type": "stream",
          "name": "stdout",
          "text": [
            "Initial blank Set: \n",
            "set()\n",
            "\n",
            "Set with the use of String: \n",
            "{'a', 'i', 'G', 'm', 't'}\n",
            "\n",
            "Set with the use of an Object: \n",
            "{'a', 'i', 'G', 'm', 't'}\n",
            "\n",
            "Set with the use of List: \n",
            "{'Gitam', 'For'}\n"
          ]
        }
      ]
    },
    {
      "cell_type": "code",
      "source": [
        "#adding elements to set\n",
        "\n",
        "set1 = set()\n",
        "print(\"Initial blank Set: \")\n",
        "print(set1)\n",
        "\n",
        "set1.add(7)\n",
        "set1.add(8)\n",
        "set1.add((7,8))\n",
        "print(\"\\nSet after Addition of Three elements: \")\n",
        "print(set1)\n",
        "\n",
        "for i in range(2, 6):\n",
        "\tset1.add(i)\n",
        "print(\"\\nSet after Addition of elements from 1-5: \")\n",
        "print(set1)\n",
        "\n",
        "set2= set()\n",
        "print(\"Intial blank set: \")\n",
        "print(set2)\n",
        "\n",
        "set2.add(5)\n",
        "set2.add(7)\n",
        "set2.add((6,9))\n",
        "print(\"\\nset after Addition of three elements: \")\n",
        "print(set2)\n",
        "\n",
        "for i in range(5,7):\n",
        "  set2.add(i)\n",
        "  print(\"\\nset after Addition of elements from 4-7: \")\n",
        "  print(set2)\n"
      ],
      "metadata": {
        "colab": {
          "base_uri": "https://localhost:8080/"
        },
        "id": "BsYBau3gZJvQ",
        "outputId": "cbba6547-3f5e-4a90-a15e-dc4c9c3d4949"
      },
      "execution_count": null,
      "outputs": [
        {
          "output_type": "stream",
          "name": "stdout",
          "text": [
            "Initial blank Set: \n",
            "set()\n",
            "\n",
            "Set after Addition of Three elements: \n",
            "{8, (7, 8), 7}\n",
            "\n",
            "Set after Addition of elements from 1-5: \n",
            "{2, 3, 4, 5, 7, 8, (7, 8)}\n",
            "Intial blank set: \n",
            "set()\n",
            "\n",
            "set after Addition of three elements: \n",
            "{(6, 9), 5, 7}\n",
            "\n",
            "set after Addition of elements from 4-7: \n",
            "{(6, 9), 5, 7}\n",
            "\n",
            "set after Addition of elements from 4-7: \n",
            "{(6, 9), 5, 6, 7}\n"
          ]
        }
      ]
    },
    {
      "cell_type": "code",
      "source": [
        "#UPDATE METHOD\n",
        "\n",
        "set1 = set([ 3, 4, (5, 6)])\n",
        "set1.update([9, 10])\n",
        "print(\"\\nSet after Addition of elements using Update: \")\n",
        "print(set1)\n",
        "\n",
        "set2 = set([ 6, 7, (8, 9)])\n",
        "set1.update([10, 11])\n",
        "print(\"\\nSet after Addition of elements using Update: \")\n",
        "print(set2)\n",
        "\n",
        "set3 = set([ 333, 444, (888, 999)])\n",
        "set1.update([555, 551])\n",
        "print(\"\\nSet after Addition of elements using Update: \")\n",
        "print(set3)\n",
        "\n",
        "set4 = set([ 10^2, 7^2, (8^2, 9^2)])\n",
        "set1.update([13^2, 14^2])\n",
        "print(\"\\nSet after Addition of elements using Update: \")\n",
        "print(set4)"
      ],
      "metadata": {
        "colab": {
          "base_uri": "https://localhost:8080/"
        },
        "id": "RUQaCp_tcVbB",
        "outputId": "e856fa09-4502-4a99-edb6-92d373253148"
      },
      "execution_count": null,
      "outputs": [
        {
          "output_type": "stream",
          "name": "stdout",
          "text": [
            "\n",
            "Set after Addition of elements using Update: \n",
            "{3, 4, (5, 6), 9, 10}\n",
            "\n",
            "Set after Addition of elements using Update: \n",
            "{(8, 9), 6, 7}\n",
            "\n",
            "Set after Addition of elements using Update: \n",
            "{444, 333, (888, 999)}\n",
            "\n",
            "Set after Addition of elements using Update: \n",
            "{8, (10, 11), 5}\n"
          ]
        }
      ]
    },
    {
      "cell_type": "code",
      "source": [
        "#Creating a Dictionary\n",
        "\n",
        "Dict = {1: 'Sowrya', 2: 'For', 3: 'Asish'}\n",
        "print(\"\\nDictionary with the use of Integer Keys: \")\n",
        "print(Dict)\n",
        "\n",
        "Dict = {'Name': 'Sowrya Asish', 1: [1, 2, 3, 4]}\n",
        "print(\"\\nDictionary with the use of Mixed Keys: \")\n",
        "print(Dict)\n",
        "\n",
        "Dict = {1: '22334455', 2: 'For', 3: '234567'}\n",
        "print(\"\\nDictionary with the use of Integer Keys: \")\n",
        "print(Dict)\n",
        "\n"
      ],
      "metadata": {
        "colab": {
          "base_uri": "https://localhost:8080/"
        },
        "id": "7ERP806geBS_",
        "outputId": "ec2ba253-369a-4682-d079-8ebeb0ae05a1"
      },
      "execution_count": null,
      "outputs": [
        {
          "output_type": "stream",
          "name": "stdout",
          "text": [
            "\n",
            "Dictionary with the use of Integer Keys: \n",
            "{1: 'Sowrya', 2: 'For', 3: 'Asish'}\n",
            "\n",
            "Dictionary with the use of Mixed Keys: \n",
            "{'Name': 'Sowrya Asish', 1: [1, 2, 3, 4]}\n",
            "\n",
            "Dictionary with the use of Integer Keys: \n",
            "{1: '22334455', 2: 'For', 3: '234567'}\n"
          ]
        }
      ]
    },
    {
      "cell_type": "code",
      "source": [
        "#Nested Dictionary\n",
        "\n",
        "Dict = {1: 'Sowrya', 2: 'For',\n",
        "\t\t3:{'A' : 'Welcome', 'B' : 'To', 'C' : 'Sowrya'}}\n",
        "\n",
        "print(Dict)\n",
        "\n"
      ],
      "metadata": {
        "colab": {
          "base_uri": "https://localhost:8080/"
        },
        "id": "ZglqxUxKggFq",
        "outputId": "ae442c16-70db-45bd-feb2-4d6e443bfa21"
      },
      "execution_count": null,
      "outputs": [
        {
          "output_type": "stream",
          "name": "stdout",
          "text": [
            "{1: 'Sowrya', 2: 'For', 3: {'A': 'Welcome', 'B': 'To', 'C': 'Sowrya'}}\n"
          ]
        }
      ]
    },
    {
      "cell_type": "code",
      "source": [
        "#placement dictionary\n",
        "\n",
        "placement={\n",
        "    \"name\":\"SOWRYA\",\n",
        "    \"age\":18,\n",
        "     \"CGPA\":9.7,\n",
        "    \"phone_number\":9392367501\n",
        "\n",
        "}\n",
        "print(placement)\n",
        "placement={\n",
        "  \"name\":input(\"enter name:\"),\n",
        "  \"age\":int(input(\"enter age:\")),\n",
        "  \"CGPA\":float(input(\"enter CGPA:\")),\n",
        "  \"phone_number\":int(input(\"enter number:\"))\n",
        "    \n",
        "}\n",
        "print(placement)\n",
        "\n"
      ],
      "metadata": {
        "colab": {
          "base_uri": "https://localhost:8080/"
        },
        "id": "ixl2R3PZg25h",
        "outputId": "4739c850-81c3-4b3e-c945-c2104caebee0"
      },
      "execution_count": null,
      "outputs": [
        {
          "output_type": "stream",
          "name": "stdout",
          "text": [
            "{'name': 'SOWRYA', 'age': 18, 'CGPA': 9.7, 'phone_number': 9392367501}\n",
            "enter name:SOWRYA\n",
            "enter age:18\n",
            "enter CGPA:9.7\n",
            "enter number:9392367501\n",
            "{'name': 'SOWRYA', 'age': 18, 'CGPA': 9.7, 'phone_number': 9392367501}\n"
          ]
        }
      ]
    }
  ]
}