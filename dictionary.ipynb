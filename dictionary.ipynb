{
  "nbformat": 4,
  "nbformat_minor": 0,
  "metadata": {
    "colab": {
      "name": "dictionary.ipynb",
      "provenance": [],
      "include_colab_link": true
    },
    "kernelspec": {
      "name": "python3",
      "display_name": "Python 3"
    },
    "language_info": {
      "name": "python"
    }
  },
  "cells": [
    {
      "cell_type": "markdown",
      "metadata": {
        "id": "view-in-github",
        "colab_type": "text"
      },
      "source": [
        "<a href=\"https://colab.research.google.com/github/SowryaAsish-068/moduleassign/blob/module2/dictionary.ipynb\" target=\"_parent\"><img src=\"https://colab.research.google.com/assets/colab-badge.svg\" alt=\"Open In Colab\"/></a>"
      ]
    },
    {
      "cell_type": "code",
      "execution_count": null,
      "metadata": {
        "colab": {
          "base_uri": "https://localhost:8080/"
        },
        "id": "3LRA0o8Dak4b",
        "outputId": "24f60f88-5477-4c2e-dcf8-9fbd368f873c"
      },
      "outputs": [
        {
          "output_type": "stream",
          "name": "stdout",
          "text": [
            "{'name': 'Rohit', 'age': '18', 'CGPA': '10', 'phone_number': '9876756640'}\n",
            "enter name:rohit\n",
            "enter age:90\n",
            "enter CGPA:89\n",
            "enter number:787799898\n",
            "{'name': 'rohit', 'age': 90, 'CGPA': 89, 'phone_number': 787799898}\n"
          ]
        }
      ],
      "source": [
        "placement={\n",
        "    \"name\":\"Rohit\",\n",
        "    \"age\":\"18\",\n",
        "     \"CGPA\":\"10\",\n",
        "    \"phone_number\":\"9876756640\"\n",
        "\n",
        "}\n",
        "print(placement)\n",
        "placement={\n",
        "    \"name\":input(\"enter name:\"),\n",
        "    \"age\":int(input(\"enter age:\")),\n",
        "     \"CGPA\":int(input(\"enter CGPA:\")),\n",
        "    \"phone_number\":int(input(\"enter number:\"))\n",
        "    \n",
        "}\n",
        "print(placement)"
      ]
    }
  ]
}